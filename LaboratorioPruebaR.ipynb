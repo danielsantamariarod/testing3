{
  "nbformat": 4,
  "nbformat_minor": 0,
  "metadata": {
    "colab": {
      "provenance": [],
      "authorship_tag": "ABX9TyODqeeghtx9z4gxDUJa3Lsm",
      "include_colab_link": true
    },
    "kernelspec": {
      "name": "ir",
      "display_name": "R"
    },
    "language_info": {
      "name": "R"
    }
  },
  "cells": [
    {
      "cell_type": "markdown",
      "metadata": {
        "id": "view-in-github",
        "colab_type": "text"
      },
      "source": [
        "<a href=\"https://colab.research.google.com/github/danielsantamariarod/testing3/blob/main/LaboratorioPruebaR.ipynb\" target=\"_parent\"><img src=\"https://colab.research.google.com/assets/colab-badge.svg\" alt=\"Open In Colab\"/></a>"
      ]
    },
    {
      "cell_type": "markdown",
      "source": [
        "## Taller de prueba\n",
        "Este es un taller de prueba con el cual se pretende mostrar cómo se pueden plantear ejercicios de laboratorio de programación en **lenguaje R** para los estudiantes dando feedback formativo.\n"
      ],
      "metadata": {
        "id": "y-HMmyNjiLnx"
      }
    },
    {
      "cell_type": "code",
      "source": [
        "# import script from github\n",
        "# https://github.com/danielsantamariarod/testing3/blob/main/tests.R\n",
        "download.file(\"https://raw.githubusercontent.com/danielsantamariarod/testing3/main/tests.R\", \"tests.R\")\n",
        "source(\"tests.R\")"
      ],
      "metadata": {
        "id": "E4KfQhknrabI"
      },
      "execution_count": 74,
      "outputs": []
    },
    {
      "cell_type": "markdown",
      "source": [
        "### Parte 1: Carga de un frame\n",
        "En este primer ejemplo vamos a cargar un frame con datos de prueba. Para ello vamos a usar un archivo de ejemplo :\n",
        "\n"
      ],
      "metadata": {
        "id": "-m6mjMkdikI9"
      }
    },
    {
      "cell_type": "code",
      "source": [
        "# prompt: load csv file from github\n",
        "\n",
        "library(readr)\n",
        "\n",
        "# Replace with the actual raw GitHub URL of your CSV file\n",
        "csv_url <- \"https://raw.githubusercontent.com/danielsantamariarod/testing3/main/gasto_col_2017.csv\"\n",
        "\n",
        "# Read the CSV file directly from the URL\n",
        "gasto_col_df <- read_csv(csv_url)\n",
        "\n",
        "# Display the first few rows of the imported dataframe\n",
        "head(gasto_col_df)"
      ],
      "metadata": {
        "colab": {
          "base_uri": "https://localhost:8080/",
          "height": 477
        },
        "id": "a1RdQVsviMBJ",
        "outputId": "0ff1b94e-7833-4b20-c562-0c87ee22a508"
      },
      "execution_count": 31,
      "outputs": [
        {
          "output_type": "stream",
          "name": "stderr",
          "text": [
            "\u001b[1mRows: \u001b[22m\u001b[34m38\u001b[39m \u001b[1mColumns: \u001b[22m\u001b[34m13\u001b[39m\n",
            "\u001b[36m──\u001b[39m \u001b[1mColumn specification\u001b[22m \u001b[36m────────────────────────────────────────────────────────\u001b[39m\n",
            "\u001b[1mDelimiter:\u001b[22m \",\"\n",
            "\u001b[31mchr\u001b[39m  (1): Ciudad\n",
            "\u001b[32mdbl\u001b[39m (12): Alimentos y bebidas no alcohólicas, Bebidas alcohólicas y tabaco, ...\n",
            "\n",
            "\u001b[36mℹ\u001b[39m Use `spec()` to retrieve the full column specification for this data.\n",
            "\u001b[36mℹ\u001b[39m Specify the column types or set `show_col_types = FALSE` to quiet this message.\n"
          ]
        },
        {
          "output_type": "display_data",
          "data": {
            "text/html": [
              "<table class=\"dataframe\">\n",
              "<caption>A tibble: 6 × 13</caption>\n",
              "<thead>\n",
              "\t<tr><th scope=col>Ciudad</th><th scope=col>Alimentos y bebidas no alcohólicas</th><th scope=col>Bebidas alcohólicas y tabaco</th><th scope=col>Prendas de vestir y calzado</th><th scope=col>Alojamiento, agua, electricidad, gas y otros combustibles</th><th scope=col>Muebles, artículos para el hogar y para la conservación ordinaria del hogar</th><th scope=col>Salud</th><th scope=col>Transporte</th><th scope=col>Información y comunicación</th><th scope=col>Recreación y cultura</th><th scope=col>Educación</th><th scope=col>Restaurantes y hoteles</th><th scope=col>Bienes y servicios diversos</th></tr>\n",
              "\t<tr><th scope=col>&lt;chr&gt;</th><th scope=col>&lt;dbl&gt;</th><th scope=col>&lt;dbl&gt;</th><th scope=col>&lt;dbl&gt;</th><th scope=col>&lt;dbl&gt;</th><th scope=col>&lt;dbl&gt;</th><th scope=col>&lt;dbl&gt;</th><th scope=col>&lt;dbl&gt;</th><th scope=col>&lt;dbl&gt;</th><th scope=col>&lt;dbl&gt;</th><th scope=col>&lt;dbl&gt;</th><th scope=col>&lt;dbl&gt;</th><th scope=col>&lt;dbl&gt;</th></tr>\n",
              "</thead>\n",
              "<tbody>\n",
              "\t<tr><td>Arauca            </td><td> 76.53250</td><td>11.98378</td><td>21.06523</td><td>158.9527</td><td>15.04075</td><td>11.793285</td><td> 20.65626</td><td>20.40456</td><td>11.52332</td><td> 24.24035</td><td>44.13055</td><td> 55.11052</td></tr>\n",
              "\t<tr><td>Armenia           </td><td>104.22719</td><td>18.61039</td><td>39.65162</td><td>174.2521</td><td>26.52474</td><td>14.846364</td><td> 71.42634</td><td>30.48673</td><td>28.14863</td><td> 58.90292</td><td>62.73580</td><td>145.31722</td></tr>\n",
              "\t<tr><td>Barrancabermeja   </td><td> 73.49564</td><td>23.51155</td><td>25.20402</td><td>218.3779</td><td>16.63767</td><td> 8.367648</td><td> 51.84284</td><td>25.65336</td><td>12.85302</td><td> 68.65088</td><td>42.09062</td><td> 58.65761</td></tr>\n",
              "\t<tr><td>Barranquilla      </td><td> 85.05942</td><td>16.02861</td><td>23.79848</td><td>204.7928</td><td>20.16287</td><td> 7.785154</td><td> 61.04324</td><td>24.50607</td><td>12.26152</td><td> 58.34858</td><td>54.05167</td><td> 72.25297</td></tr>\n",
              "\t<tr><td>Bogotá            </td><td>103.56115</td><td>21.83943</td><td>42.81424</td><td>295.8176</td><td>34.16808</td><td>27.459289</td><td>111.87081</td><td>40.65746</td><td>36.48435</td><td>134.93325</td><td>94.64353</td><td>236.88754</td></tr>\n",
              "\t<tr><td>Bucaramanga y A.M.</td><td>116.11247</td><td>19.98152</td><td>30.14493</td><td>256.0903</td><td>27.26003</td><td>16.972276</td><td> 78.57680</td><td>31.04953</td><td>22.85633</td><td> 64.61003</td><td>89.82978</td><td>118.63396</td></tr>\n",
              "</tbody>\n",
              "</table>\n"
            ],
            "text/markdown": "\nA tibble: 6 × 13\n\n| Ciudad &lt;chr&gt; | Alimentos y bebidas no alcohólicas &lt;dbl&gt; | Bebidas alcohólicas y tabaco &lt;dbl&gt; | Prendas de vestir y calzado &lt;dbl&gt; | Alojamiento, agua, electricidad, gas y otros combustibles &lt;dbl&gt; | Muebles, artículos para el hogar y para la conservación ordinaria del hogar &lt;dbl&gt; | Salud &lt;dbl&gt; | Transporte &lt;dbl&gt; | Información y comunicación &lt;dbl&gt; | Recreación y cultura &lt;dbl&gt; | Educación &lt;dbl&gt; | Restaurantes y hoteles &lt;dbl&gt; | Bienes y servicios diversos &lt;dbl&gt; |\n|---|---|---|---|---|---|---|---|---|---|---|---|---|\n| Arauca             |  76.53250 | 11.98378 | 21.06523 | 158.9527 | 15.04075 | 11.793285 |  20.65626 | 20.40456 | 11.52332 |  24.24035 | 44.13055 |  55.11052 |\n| Armenia            | 104.22719 | 18.61039 | 39.65162 | 174.2521 | 26.52474 | 14.846364 |  71.42634 | 30.48673 | 28.14863 |  58.90292 | 62.73580 | 145.31722 |\n| Barrancabermeja    |  73.49564 | 23.51155 | 25.20402 | 218.3779 | 16.63767 |  8.367648 |  51.84284 | 25.65336 | 12.85302 |  68.65088 | 42.09062 |  58.65761 |\n| Barranquilla       |  85.05942 | 16.02861 | 23.79848 | 204.7928 | 20.16287 |  7.785154 |  61.04324 | 24.50607 | 12.26152 |  58.34858 | 54.05167 |  72.25297 |\n| Bogotá             | 103.56115 | 21.83943 | 42.81424 | 295.8176 | 34.16808 | 27.459289 | 111.87081 | 40.65746 | 36.48435 | 134.93325 | 94.64353 | 236.88754 |\n| Bucaramanga y A.M. | 116.11247 | 19.98152 | 30.14493 | 256.0903 | 27.26003 | 16.972276 |  78.57680 | 31.04953 | 22.85633 |  64.61003 | 89.82978 | 118.63396 |\n\n",
            "text/latex": "A tibble: 6 × 13\n\\begin{tabular}{lllllllllllll}\n Ciudad & Alimentos y bebidas no alcohólicas & Bebidas alcohólicas y tabaco & Prendas de vestir y calzado & Alojamiento, agua, electricidad, gas y otros combustibles & Muebles, artículos para el hogar y para la conservación ordinaria del hogar & Salud & Transporte & Información y comunicación & Recreación y cultura & Educación & Restaurantes y hoteles & Bienes y servicios diversos\\\\\n <chr> & <dbl> & <dbl> & <dbl> & <dbl> & <dbl> & <dbl> & <dbl> & <dbl> & <dbl> & <dbl> & <dbl> & <dbl>\\\\\n\\hline\n\t Arauca             &  76.53250 & 11.98378 & 21.06523 & 158.9527 & 15.04075 & 11.793285 &  20.65626 & 20.40456 & 11.52332 &  24.24035 & 44.13055 &  55.11052\\\\\n\t Armenia            & 104.22719 & 18.61039 & 39.65162 & 174.2521 & 26.52474 & 14.846364 &  71.42634 & 30.48673 & 28.14863 &  58.90292 & 62.73580 & 145.31722\\\\\n\t Barrancabermeja    &  73.49564 & 23.51155 & 25.20402 & 218.3779 & 16.63767 &  8.367648 &  51.84284 & 25.65336 & 12.85302 &  68.65088 & 42.09062 &  58.65761\\\\\n\t Barranquilla       &  85.05942 & 16.02861 & 23.79848 & 204.7928 & 20.16287 &  7.785154 &  61.04324 & 24.50607 & 12.26152 &  58.34858 & 54.05167 &  72.25297\\\\\n\t Bogotá             & 103.56115 & 21.83943 & 42.81424 & 295.8176 & 34.16808 & 27.459289 & 111.87081 & 40.65746 & 36.48435 & 134.93325 & 94.64353 & 236.88754\\\\\n\t Bucaramanga y A.M. & 116.11247 & 19.98152 & 30.14493 & 256.0903 & 27.26003 & 16.972276 &  78.57680 & 31.04953 & 22.85633 &  64.61003 & 89.82978 & 118.63396\\\\\n\\end{tabular}\n",
            "text/plain": [
              "  Ciudad             Alimentos y bebidas no alcohólicas\n",
              "1 Arauca              76.53250                         \n",
              "2 Armenia            104.22719                         \n",
              "3 Barrancabermeja     73.49564                         \n",
              "4 Barranquilla        85.05942                         \n",
              "5 Bogotá             103.56115                         \n",
              "6 Bucaramanga y A.M. 116.11247                         \n",
              "  Bebidas alcohólicas y tabaco Prendas de vestir y calzado\n",
              "1 11.98378                     21.06523                   \n",
              "2 18.61039                     39.65162                   \n",
              "3 23.51155                     25.20402                   \n",
              "4 16.02861                     23.79848                   \n",
              "5 21.83943                     42.81424                   \n",
              "6 19.98152                     30.14493                   \n",
              "  Alojamiento, agua, electricidad, gas y otros combustibles\n",
              "1 158.9527                                                 \n",
              "2 174.2521                                                 \n",
              "3 218.3779                                                 \n",
              "4 204.7928                                                 \n",
              "5 295.8176                                                 \n",
              "6 256.0903                                                 \n",
              "  Muebles, artículos para el hogar y para la conservación ordinaria del hogar\n",
              "1 15.04075                                                                   \n",
              "2 26.52474                                                                   \n",
              "3 16.63767                                                                   \n",
              "4 20.16287                                                                   \n",
              "5 34.16808                                                                   \n",
              "6 27.26003                                                                   \n",
              "  Salud     Transporte Información y comunicación Recreación y cultura\n",
              "1 11.793285  20.65626  20.40456                   11.52332            \n",
              "2 14.846364  71.42634  30.48673                   28.14863            \n",
              "3  8.367648  51.84284  25.65336                   12.85302            \n",
              "4  7.785154  61.04324  24.50607                   12.26152            \n",
              "5 27.459289 111.87081  40.65746                   36.48435            \n",
              "6 16.972276  78.57680  31.04953                   22.85633            \n",
              "  Educación Restaurantes y hoteles Bienes y servicios diversos\n",
              "1  24.24035 44.13055                55.11052                  \n",
              "2  58.90292 62.73580               145.31722                  \n",
              "3  68.65088 42.09062                58.65761                  \n",
              "4  58.34858 54.05167                72.25297                  \n",
              "5 134.93325 94.64353               236.88754                  \n",
              "6  64.61003 89.82978               118.63396                  "
            ]
          },
          "metadata": {}
        }
      ]
    },
    {
      "cell_type": "markdown",
      "source": [],
      "metadata": {
        "id": "4WbLl3p1kHod"
      }
    },
    {
      "cell_type": "markdown",
      "source": [
        "## Parte 2: Filtrado de datos\n",
        "Vamos a filtrar elementos que cumplan una condición.\n",
        "\n",
        "### Ejemplo:\n",
        "Ciudades con gastos menores a 8\n"
      ],
      "metadata": {
        "id": "LuixFFPRkawN"
      }
    },
    {
      "cell_type": "code",
      "source": [
        "gastos_menores_salud <- subset(gasto_col_df, Salud < 8)[, c(\"Ciudad\", \"Salud\")]\n",
        "\n",
        "gastos_menores_salud"
      ],
      "metadata": {
        "colab": {
          "base_uri": "https://localhost:8080/",
          "height": 380
        },
        "id": "s22GhK7XiMch",
        "outputId": "d2536fac-2d8f-486f-f519-6ed7ca224325"
      },
      "execution_count": 45,
      "outputs": [
        {
          "output_type": "display_data",
          "data": {
            "text/html": [
              "<table class=\"dataframe\">\n",
              "<caption>A tibble: 9 × 2</caption>\n",
              "<thead>\n",
              "\t<tr><th scope=col>Ciudad</th><th scope=col>Salud</th></tr>\n",
              "\t<tr><th scope=col>&lt;chr&gt;</th><th scope=col>&lt;dbl&gt;</th></tr>\n",
              "</thead>\n",
              "<tbody>\n",
              "\t<tr><td>Barranquilla  </td><td>7.785154</td></tr>\n",
              "\t<tr><td>Leticia       </td><td>4.906021</td></tr>\n",
              "\t<tr><td>Mitú          </td><td>4.457025</td></tr>\n",
              "\t<tr><td>Montería      </td><td>6.428257</td></tr>\n",
              "\t<tr><td>Puerto Carreño</td><td>7.405873</td></tr>\n",
              "\t<tr><td>Quibdó        </td><td>5.530473</td></tr>\n",
              "\t<tr><td>San Andrés    </td><td>7.048846</td></tr>\n",
              "\t<tr><td>Santa Marta   </td><td>5.884119</td></tr>\n",
              "\t<tr><td>Soledad       </td><td>6.081591</td></tr>\n",
              "</tbody>\n",
              "</table>\n"
            ],
            "text/markdown": "\nA tibble: 9 × 2\n\n| Ciudad &lt;chr&gt; | Salud &lt;dbl&gt; |\n|---|---|\n| Barranquilla   | 7.785154 |\n| Leticia        | 4.906021 |\n| Mitú           | 4.457025 |\n| Montería       | 6.428257 |\n| Puerto Carreño | 7.405873 |\n| Quibdó         | 5.530473 |\n| San Andrés     | 7.048846 |\n| Santa Marta    | 5.884119 |\n| Soledad        | 6.081591 |\n\n",
            "text/latex": "A tibble: 9 × 2\n\\begin{tabular}{ll}\n Ciudad & Salud\\\\\n <chr> & <dbl>\\\\\n\\hline\n\t Barranquilla   & 7.785154\\\\\n\t Leticia        & 4.906021\\\\\n\t Mitú           & 4.457025\\\\\n\t Montería       & 6.428257\\\\\n\t Puerto Carreño & 7.405873\\\\\n\t Quibdó         & 5.530473\\\\\n\t San Andrés     & 7.048846\\\\\n\t Santa Marta    & 5.884119\\\\\n\t Soledad        & 6.081591\\\\\n\\end{tabular}\n",
            "text/plain": [
              "  Ciudad         Salud   \n",
              "1 Barranquilla   7.785154\n",
              "2 Leticia        4.906021\n",
              "3 Mitú           4.457025\n",
              "4 Montería       6.428257\n",
              "5 Puerto Carreño 7.405873\n",
              "6 Quibdó         5.530473\n",
              "7 San Andrés     7.048846\n",
              "8 Santa Marta    5.884119\n",
              "9 Soledad        6.081591"
            ]
          },
          "metadata": {}
        }
      ]
    },
    {
      "cell_type": "markdown",
      "source": [
        "### Ejercicio:\n",
        "Ciudades con gasto en transporte mayor a 70"
      ],
      "metadata": {
        "id": "Cn5y1Gq3oUCN"
      }
    },
    {
      "cell_type": "code",
      "source": [
        "gastos_mayores_transporte <- subset(gasto_col_df, Transporte > 70)[, c(\"Ciudad\", \"Transporte\")]\n",
        "# gastos_mayores_transporte <- ____\n",
        "\n",
        "gastos_mayores_transporte"
      ],
      "metadata": {
        "colab": {
          "base_uri": "https://localhost:8080/",
          "height": 412
        },
        "id": "ywGUo9UMiMsg",
        "outputId": "cb503dd8-bbd6-4a23-97a4-da26616c2ebf"
      },
      "execution_count": 58,
      "outputs": [
        {
          "output_type": "display_data",
          "data": {
            "text/html": [
              "<table class=\"dataframe\">\n",
              "<caption>A tibble: 10 × 2</caption>\n",
              "<thead>\n",
              "\t<tr><th scope=col>Ciudad</th><th scope=col>Transporte</th></tr>\n",
              "\t<tr><th scope=col>&lt;chr&gt;</th><th scope=col>&lt;dbl&gt;</th></tr>\n",
              "</thead>\n",
              "<tbody>\n",
              "\t<tr><td>Armenia           </td><td> 71.42634</td></tr>\n",
              "\t<tr><td>Bogotá            </td><td>111.87081</td></tr>\n",
              "\t<tr><td>Bucaramanga y A.M.</td><td> 78.57680</td></tr>\n",
              "\t<tr><td>Cali              </td><td> 72.36064</td></tr>\n",
              "\t<tr><td>Manizales y A.M.  </td><td> 92.66597</td></tr>\n",
              "\t<tr><td>Medellín y A.M.   </td><td> 88.99316</td></tr>\n",
              "\t<tr><td>Neiva             </td><td> 71.10493</td></tr>\n",
              "\t<tr><td>Rionegro          </td><td>108.93473</td></tr>\n",
              "\t<tr><td>Tunja             </td><td> 92.47844</td></tr>\n",
              "\t<tr><td>Villavicencio     </td><td> 75.88955</td></tr>\n",
              "</tbody>\n",
              "</table>\n"
            ],
            "text/markdown": "\nA tibble: 10 × 2\n\n| Ciudad &lt;chr&gt; | Transporte &lt;dbl&gt; |\n|---|---|\n| Armenia            |  71.42634 |\n| Bogotá             | 111.87081 |\n| Bucaramanga y A.M. |  78.57680 |\n| Cali               |  72.36064 |\n| Manizales y A.M.   |  92.66597 |\n| Medellín y A.M.    |  88.99316 |\n| Neiva              |  71.10493 |\n| Rionegro           | 108.93473 |\n| Tunja              |  92.47844 |\n| Villavicencio      |  75.88955 |\n\n",
            "text/latex": "A tibble: 10 × 2\n\\begin{tabular}{ll}\n Ciudad & Transporte\\\\\n <chr> & <dbl>\\\\\n\\hline\n\t Armenia            &  71.42634\\\\\n\t Bogotá             & 111.87081\\\\\n\t Bucaramanga y A.M. &  78.57680\\\\\n\t Cali               &  72.36064\\\\\n\t Manizales y A.M.   &  92.66597\\\\\n\t Medellín y A.M.    &  88.99316\\\\\n\t Neiva              &  71.10493\\\\\n\t Rionegro           & 108.93473\\\\\n\t Tunja              &  92.47844\\\\\n\t Villavicencio      &  75.88955\\\\\n\\end{tabular}\n",
            "text/plain": [
              "   Ciudad             Transporte\n",
              "1  Armenia             71.42634 \n",
              "2  Bogotá             111.87081 \n",
              "3  Bucaramanga y A.M.  78.57680 \n",
              "4  Cali                72.36064 \n",
              "5  Manizales y A.M.    92.66597 \n",
              "6  Medellín y A.M.     88.99316 \n",
              "7  Neiva               71.10493 \n",
              "8  Rionegro           108.93473 \n",
              "9  Tunja               92.47844 \n",
              "10 Villavicencio       75.88955 "
            ]
          },
          "metadata": {}
        }
      ]
    },
    {
      "cell_type": "code",
      "source": [
        "# Utiliza esta celda para comprobar tu respuesta, recibir una pista o pedir la solución\n",
        "#test_trial1(gastos_mayores_transporte)\n",
        "\n",
        "#hint_trial1()\n",
        "\n",
        "solution_trial1()"
      ],
      "metadata": {
        "colab": {
          "base_uri": "https://localhost:8080/"
        },
        "id": "5T8jpIfAiNPI",
        "outputId": "16e74455-3b0f-46df-b743-9d378f67921b"
      },
      "execution_count": 75,
      "outputs": [
        {
          "output_type": "stream",
          "name": "stdout",
          "text": [
            "✅ Solución:\n",
            "\n",
            "gastos_mayores_transporte <- subset(gasto_col_df, Transporte > 70)[, c(\"Ciudad\", \"Transporte\")]✅ Explicación de la solución:\n",
            "\n",
            "La instrucción:\n",
            "gastos_mayores_transporte <- subset(gasto_col_df, Transporte > 70)[, c(\"Ciudad\", \"Transporte\")]\n",
            "\n",
            "realiza dos operaciones encadenadas para construir el resultado deseado:\n",
            "\n",
            "1. 🔹 Filtrado con `subset()`:\n",
            "   Se seleccionan únicamente aquellas filas del data frame `gasto_col_df`\n",
            "   en las que el valor de la columna `Transporte` es mayor a 70.\n",
            "   Ejemplo: subset(gasto_col_df, Transporte > 70)\n",
            "\n",
            "2. 🔹 Selección de columnas específicas:\n",
            "   Se usa la notación de corchetes `[ , ]` para elegir solo las columnas\n",
            "   \"Ciudad\" y \"Transporte\" del resultado anterior.\n",
            "   Ejemplo: [ , c(\"Ciudad\", \"Transporte\")]\n",
            "\n",
            "3. 🔹 Asignación a una nueva variable:\n",
            "   Todo el resultado se guarda en la variable `gastos_mayores_transporte`,\n",
            "   que contiene solo las ciudades con gasto en transporte superior a 70,\n",
            "   y únicamente las columnas relevantes.\n",
            "\n",
            "Este tipo de operación es muy útil para construir subconjuntos\n",
            "de datos según criterios específicos de análisis.\n"
          ]
        }
      ]
    }
  ]
}